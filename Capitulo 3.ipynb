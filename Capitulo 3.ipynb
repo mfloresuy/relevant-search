{
 "cells": [
  {
   "cell_type": "markdown",
   "metadata": {},
   "source": [
    "Funcion para levantar diccionario de peliculas"
   ]
  },
  {
   "cell_type": "code",
   "execution_count": 1,
   "metadata": {},
   "outputs": [],
   "source": [
    "import requests\n",
    "import json\n",
    "\n",
    "def extract():\n",
    "    path=\"./\"\n",
    "    f = open(path + \"tmdb.json\")\n",
    "    if f:\n",
    "        return json.loads(f.read());"
   ]
  },
  {
   "cell_type": "markdown",
   "metadata": {},
   "source": [
    "Funcion para cargar indice en elastic"
   ]
  },
  {
   "cell_type": "code",
   "execution_count": 2,
   "metadata": {},
   "outputs": [],
   "source": [
    "def reindex(analysisSettings={}, mappingSettings={}, movieDict={}):\n",
    "    ELASTIC_URL = \"http://localhost:9200\"\n",
    "    TMPDB_URLBASE = ELASTIC_URL + \"/tmpdb\"\n",
    "    settings = {\n",
    "        \"settings\": {\n",
    "            \"number_of_shards\": 1,\n",
    "            \"index\" : {\n",
    "                \"analysis\" : analysisSettings,\n",
    "            }\n",
    "        }\n",
    "    }\n",
    "    \n",
    "    if mappingSettings:\n",
    "        settings[\"mappings\"] = mappingSettings\n",
    "        \n",
    "    resp = requests.delete(TMPDB_URLBASE)\n",
    "    resp = requests.put(TMPDB_URLBASE, data=json.dumps(settings))\n",
    "    \n",
    "    bulkMovies = \"\"\n",
    "    for id, movie in movieDict.items():\n",
    "        addCmd = {\n",
    "            \"index\": {\n",
    "                \"_index\": \"tmpdb\",\n",
    "                \"_type\": \"movie\",\n",
    "                \"_id\": movie[\"id\"],\n",
    "                \n",
    "            }\n",
    "        }\n",
    "        \n",
    "        bulkMovies += json.dumps(addCmd) + \"\\n\" + json.dumps(movie) + \"\\n\"\n",
    "    resp = requests.post(ELASTIC_URL + \"/_bulk\", data=bulkMovies)\n",
    "        "
   ]
  },
  {
   "cell_type": "markdown",
   "metadata": {},
   "source": [
    "Cargo peliculas"
   ]
  },
  {
   "cell_type": "code",
   "execution_count": 3,
   "metadata": {},
   "outputs": [],
   "source": [
    "movieDict = extract()\n",
    "reindex(movieDict=movieDict)"
   ]
  },
  {
   "cell_type": "code",
   "execution_count": null,
   "metadata": {},
   "outputs": [],
   "source": []
  }
 ],
 "metadata": {
  "kernelspec": {
   "display_name": "Python 3",
   "language": "python",
   "name": "python3"
  },
  "language_info": {
   "codemirror_mode": {
    "name": "ipython",
    "version": 3
   },
   "file_extension": ".py",
   "mimetype": "text/x-python",
   "name": "python",
   "nbconvert_exporter": "python",
   "pygments_lexer": "ipython3",
   "version": "3.7.3"
  }
 },
 "nbformat": 4,
 "nbformat_minor": 2
}
